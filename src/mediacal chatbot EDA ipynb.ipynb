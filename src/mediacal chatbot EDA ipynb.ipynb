{
 "cells": [
  {
   "cell_type": "code",
   "execution_count": null,
   "id": "161d1db1",
   "metadata": {},
   "outputs": [],
   "source": [
    "import pandas as pd\n",
    "import matplotlib.pyplot as plt\n",
    "import seaborn as sns\n",
    "\n",
    "# Load the training dataset (assuming it has been split into X_train and y_train)\n",
    "X_train = pd.read_csv('X_train.csv')  # Load your training features\n",
    "y_train = pd.read_csv('y_train.csv')  # Load your training labels\n",
    "\n",
    "# Display basic information about the training dataset\n",
    "print(\"Training Data Info:\")\n",
    "print(X_train.info())\n",
    "\n",
    "# Summary statistics for numerical columns (if applicable)\n",
    "print(\"\\nSummary Statistics for Training Data:\")\n",
    "print(X_train.describe())\n",
    "\n",
    "# Check for missing values\n",
    "print(\"\\nMissing Values in Training Data:\")\n",
    "print(X_train.isnull().sum())"
   ]
  }
 ],
 "metadata": {
  "kernelspec": {
   "display_name": "Python 3 (ipykernel)",
   "language": "python",
   "name": "python3"
  },
  "language_info": {
   "codemirror_mode": {
    "name": "ipython",
    "version": 3
   },
   "file_extension": ".py",
   "mimetype": "text/x-python",
   "name": "python",
   "nbconvert_exporter": "python",
   "pygments_lexer": "ipython3",
   "version": "3.9.12"
  }
 },
 "nbformat": 4,
 "nbformat_minor": 5
}
